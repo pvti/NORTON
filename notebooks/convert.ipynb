{
 "cells": [
  {
   "cell_type": "code",
   "execution_count": 32,
   "metadata": {},
   "outputs": [],
   "source": [
    "import torch\n",
    "import torch.nn as nn"
   ]
  },
  {
   "cell_type": "code",
   "execution_count": 33,
   "metadata": {},
   "outputs": [],
   "source": [
    "input  = torch.rand(1, 4, 4)"
   ]
  },
  {
   "cell_type": "code",
   "execution_count": 34,
   "metadata": {},
   "outputs": [
    {
     "data": {
      "text/plain": [
       "tensor([[[0.4171, 0.1910, 0.8074, 0.9956],\n",
       "         [0.9225, 0.4730, 0.3997, 0.6409],\n",
       "         [0.6786, 0.1034, 0.7524, 0.9973],\n",
       "         [0.4913, 0.6651, 0.8606, 0.5332]]])"
      ]
     },
     "execution_count": 34,
     "metadata": {},
     "output_type": "execute_result"
    }
   ],
   "source": [
    "input"
   ]
  },
  {
   "cell_type": "code",
   "execution_count": 35,
   "metadata": {},
   "outputs": [],
   "source": [
    "weight = torch.rand(1, 2, 3)"
   ]
  },
  {
   "cell_type": "code",
   "execution_count": 36,
   "metadata": {},
   "outputs": [
    {
     "data": {
      "text/plain": [
       "tensor([[[0.5149, 0.2178, 0.1896],\n",
       "         [0.8354, 0.2894, 0.3361]]])"
      ]
     },
     "execution_count": 36,
     "metadata": {},
     "output_type": "execute_result"
    }
   ],
   "source": [
    "weight"
   ]
  },
  {
   "cell_type": "code",
   "execution_count": 37,
   "metadata": {},
   "outputs": [],
   "source": [
    "padded_I = nn.functional.pad(input, pad=[1]*4)"
   ]
  },
  {
   "cell_type": "code",
   "execution_count": 38,
   "metadata": {},
   "outputs": [],
   "source": [
    "padded_I = padded_I.permute(1, 2, 0)"
   ]
  },
  {
   "cell_type": "code",
   "execution_count": 39,
   "metadata": {},
   "outputs": [
    {
     "data": {
      "text/plain": [
       "tensor([[[0.0000],\n",
       "         [0.0000],\n",
       "         [0.0000],\n",
       "         [0.0000],\n",
       "         [0.0000],\n",
       "         [0.0000]],\n",
       "\n",
       "        [[0.0000],\n",
       "         [0.4171],\n",
       "         [0.1910],\n",
       "         [0.8074],\n",
       "         [0.9956],\n",
       "         [0.0000]],\n",
       "\n",
       "        [[0.0000],\n",
       "         [0.9225],\n",
       "         [0.4730],\n",
       "         [0.3997],\n",
       "         [0.6409],\n",
       "         [0.0000]],\n",
       "\n",
       "        [[0.0000],\n",
       "         [0.6786],\n",
       "         [0.1034],\n",
       "         [0.7524],\n",
       "         [0.9973],\n",
       "         [0.0000]],\n",
       "\n",
       "        [[0.0000],\n",
       "         [0.4913],\n",
       "         [0.6651],\n",
       "         [0.8606],\n",
       "         [0.5332],\n",
       "         [0.0000]],\n",
       "\n",
       "        [[0.0000],\n",
       "         [0.0000],\n",
       "         [0.0000],\n",
       "         [0.0000],\n",
       "         [0.0000],\n",
       "         [0.0000]]])"
      ]
     },
     "execution_count": 39,
     "metadata": {},
     "output_type": "execute_result"
    }
   ],
   "source": [
    "padded_I"
   ]
  },
  {
   "cell_type": "code",
   "execution_count": 40,
   "metadata": {},
   "outputs": [],
   "source": [
    "padded_h = padded_I.shape[0]\n",
    "padded_w = padded_I.shape[1]"
   ]
  },
  {
   "cell_type": "code",
   "execution_count": 41,
   "metadata": {},
   "outputs": [],
   "source": [
    "padded_I_col = padded_I.reshape(\n",
    "            1 * padded_h * padded_w, 1)"
   ]
  },
  {
   "cell_type": "code",
   "execution_count": 42,
   "metadata": {},
   "outputs": [
    {
     "data": {
      "text/plain": [
       "torch.Size([36, 1])"
      ]
     },
     "execution_count": 42,
     "metadata": {},
     "output_type": "execute_result"
    }
   ],
   "source": [
    "padded_I_col.shape"
   ]
  },
  {
   "cell_type": "code",
   "execution_count": 43,
   "metadata": {},
   "outputs": [
    {
     "data": {
      "text/plain": [
       "tensor([[0.0000],\n",
       "        [0.0000],\n",
       "        [0.0000],\n",
       "        [0.0000],\n",
       "        [0.0000],\n",
       "        [0.0000],\n",
       "        [0.0000],\n",
       "        [0.4171],\n",
       "        [0.1910],\n",
       "        [0.8074],\n",
       "        [0.9956],\n",
       "        [0.0000],\n",
       "        [0.0000],\n",
       "        [0.9225],\n",
       "        [0.4730],\n",
       "        [0.3997],\n",
       "        [0.6409],\n",
       "        [0.0000],\n",
       "        [0.0000],\n",
       "        [0.6786],\n",
       "        [0.1034],\n",
       "        [0.7524],\n",
       "        [0.9973],\n",
       "        [0.0000],\n",
       "        [0.0000],\n",
       "        [0.4913],\n",
       "        [0.6651],\n",
       "        [0.8606],\n",
       "        [0.5332],\n",
       "        [0.0000],\n",
       "        [0.0000],\n",
       "        [0.0000],\n",
       "        [0.0000],\n",
       "        [0.0000],\n",
       "        [0.0000],\n",
       "        [0.0000]])"
      ]
     },
     "execution_count": 43,
     "metadata": {},
     "output_type": "execute_result"
    }
   ],
   "source": [
    "padded_I_col"
   ]
  },
  {
   "cell_type": "code",
   "execution_count": 44,
   "metadata": {},
   "outputs": [],
   "source": [
    "weight_col = weight.reshape(1, 2 * 3)"
   ]
  },
  {
   "cell_type": "code",
   "execution_count": 45,
   "metadata": {},
   "outputs": [
    {
     "data": {
      "text/plain": [
       "torch.Size([1, 6])"
      ]
     },
     "execution_count": 45,
     "metadata": {},
     "output_type": "execute_result"
    }
   ],
   "source": [
    "weight_col.shape"
   ]
  },
  {
   "cell_type": "code",
   "execution_count": 46,
   "metadata": {},
   "outputs": [],
   "source": [
    "output = torch.matmul(padded_I_col, weight_col).reshape(\n",
    "            padded_h, padded_w, 2, 3)\n"
   ]
  },
  {
   "cell_type": "code",
   "execution_count": 47,
   "metadata": {},
   "outputs": [
    {
     "data": {
      "text/plain": [
       "torch.Size([6, 6, 2, 3])"
      ]
     },
     "execution_count": 47,
     "metadata": {},
     "output_type": "execute_result"
    }
   ],
   "source": [
    "output.shape"
   ]
  },
  {
   "cell_type": "code",
   "execution_count": 48,
   "metadata": {},
   "outputs": [
    {
     "data": {
      "text/plain": [
       "tensor([[[0.0000, 0.0000, 0.0000],\n",
       "         [0.0000, 0.0000, 0.0000],\n",
       "         [0.0000, 0.0000, 0.0000],\n",
       "         [0.0000, 0.0000, 0.0000],\n",
       "         [0.0000, 0.0000, 0.0000],\n",
       "         [0.0000, 0.0000, 0.0000]],\n",
       "\n",
       "        [[0.0000, 0.0000, 0.0000],\n",
       "         [0.2148, 0.0908, 0.0791],\n",
       "         [0.0983, 0.0416, 0.0362],\n",
       "         [0.4157, 0.1758, 0.1531],\n",
       "         [0.5126, 0.2168, 0.1887],\n",
       "         [0.0000, 0.0000, 0.0000]],\n",
       "\n",
       "        [[0.0000, 0.0000, 0.0000],\n",
       "         [0.4750, 0.2009, 0.1749],\n",
       "         [0.2436, 0.1030, 0.0897],\n",
       "         [0.2058, 0.0870, 0.0758],\n",
       "         [0.3300, 0.1396, 0.1215],\n",
       "         [0.0000, 0.0000, 0.0000]],\n",
       "\n",
       "        [[0.0000, 0.0000, 0.0000],\n",
       "         [0.3494, 0.1478, 0.1286],\n",
       "         [0.0533, 0.0225, 0.0196],\n",
       "         [0.3874, 0.1639, 0.1426],\n",
       "         [0.5135, 0.2172, 0.1891],\n",
       "         [0.0000, 0.0000, 0.0000]],\n",
       "\n",
       "        [[0.0000, 0.0000, 0.0000],\n",
       "         [0.2530, 0.1070, 0.0931],\n",
       "         [0.3425, 0.1448, 0.1261],\n",
       "         [0.4431, 0.1874, 0.1631],\n",
       "         [0.2745, 0.1161, 0.1011],\n",
       "         [0.0000, 0.0000, 0.0000]],\n",
       "\n",
       "        [[0.0000, 0.0000, 0.0000],\n",
       "         [0.0000, 0.0000, 0.0000],\n",
       "         [0.0000, 0.0000, 0.0000],\n",
       "         [0.0000, 0.0000, 0.0000],\n",
       "         [0.0000, 0.0000, 0.0000],\n",
       "         [0.0000, 0.0000, 0.0000]]])"
      ]
     },
     "execution_count": 48,
     "metadata": {},
     "output_type": "execute_result"
    }
   ],
   "source": [
    "output[:, :, 0, :]"
   ]
  },
  {
   "cell_type": "code",
   "execution_count": 49,
   "metadata": {},
   "outputs": [],
   "source": [
    "conv = nn.Conv2d(1, 2, kernel_size=1, padding=1, bias=False)"
   ]
  },
  {
   "cell_type": "code",
   "execution_count": null,
   "metadata": {},
   "outputs": [],
   "source": []
  },
  {
   "cell_type": "code",
   "execution_count": 50,
   "metadata": {},
   "outputs": [],
   "source": [
    "conv.weight.data = weight[:, 0, :].permute(1, 0).unsqueeze(-1).unsqueeze(-1)"
   ]
  },
  {
   "cell_type": "code",
   "execution_count": 51,
   "metadata": {},
   "outputs": [
    {
     "data": {
      "text/plain": [
       "Parameter containing:\n",
       "tensor([[[[0.5149]]],\n",
       "\n",
       "\n",
       "        [[[0.2178]]],\n",
       "\n",
       "\n",
       "        [[[0.1896]]]], requires_grad=True)"
      ]
     },
     "execution_count": 51,
     "metadata": {},
     "output_type": "execute_result"
    }
   ],
   "source": [
    "conv.weight"
   ]
  },
  {
   "cell_type": "code",
   "execution_count": 52,
   "metadata": {},
   "outputs": [],
   "source": [
    "out_1 = conv(input)"
   ]
  },
  {
   "cell_type": "code",
   "execution_count": 53,
   "metadata": {},
   "outputs": [
    {
     "data": {
      "text/plain": [
       "tensor([[[0.0000, 0.0000, 0.0000, 0.0000, 0.0000, 0.0000],\n",
       "         [0.0000, 0.2148, 0.0983, 0.4157, 0.5126, 0.0000],\n",
       "         [0.0000, 0.4750, 0.2436, 0.2058, 0.3300, 0.0000],\n",
       "         [0.0000, 0.3494, 0.0533, 0.3874, 0.5135, 0.0000],\n",
       "         [0.0000, 0.2530, 0.3425, 0.4431, 0.2745, 0.0000],\n",
       "         [0.0000, 0.0000, 0.0000, 0.0000, 0.0000, 0.0000]],\n",
       "\n",
       "        [[0.0000, 0.0000, 0.0000, 0.0000, 0.0000, 0.0000],\n",
       "         [0.0000, 0.0908, 0.0416, 0.1758, 0.2168, 0.0000],\n",
       "         [0.0000, 0.2009, 0.1030, 0.0870, 0.1396, 0.0000],\n",
       "         [0.0000, 0.1478, 0.0225, 0.1639, 0.2172, 0.0000],\n",
       "         [0.0000, 0.1070, 0.1448, 0.1874, 0.1161, 0.0000],\n",
       "         [0.0000, 0.0000, 0.0000, 0.0000, 0.0000, 0.0000]],\n",
       "\n",
       "        [[0.0000, 0.0000, 0.0000, 0.0000, 0.0000, 0.0000],\n",
       "         [0.0000, 0.0791, 0.0362, 0.1531, 0.1887, 0.0000],\n",
       "         [0.0000, 0.1749, 0.0897, 0.0758, 0.1215, 0.0000],\n",
       "         [0.0000, 0.1286, 0.0196, 0.1426, 0.1891, 0.0000],\n",
       "         [0.0000, 0.0931, 0.1261, 0.1631, 0.1011, 0.0000],\n",
       "         [0.0000, 0.0000, 0.0000, 0.0000, 0.0000, 0.0000]]],\n",
       "       grad_fn=<SqueezeBackward1>)"
      ]
     },
     "execution_count": 53,
     "metadata": {},
     "output_type": "execute_result"
    }
   ],
   "source": [
    "out_1"
   ]
  },
  {
   "cell_type": "code",
   "execution_count": 54,
   "metadata": {},
   "outputs": [
    {
     "data": {
      "text/plain": [
       "torch.Size([3, 6, 6])"
      ]
     },
     "execution_count": 54,
     "metadata": {},
     "output_type": "execute_result"
    }
   ],
   "source": [
    "out_1.shape"
   ]
  },
  {
   "cell_type": "code",
   "execution_count": 55,
   "metadata": {},
   "outputs": [],
   "source": [
    "out_1_permuted = out_1.permute(1, 2, 0)"
   ]
  },
  {
   "cell_type": "code",
   "execution_count": 56,
   "metadata": {},
   "outputs": [
    {
     "data": {
      "text/plain": [
       "tensor([[[0.0000, 0.0000, 0.0000],\n",
       "         [0.0000, 0.0000, 0.0000],\n",
       "         [0.0000, 0.0000, 0.0000],\n",
       "         [0.0000, 0.0000, 0.0000],\n",
       "         [0.0000, 0.0000, 0.0000],\n",
       "         [0.0000, 0.0000, 0.0000]],\n",
       "\n",
       "        [[0.0000, 0.0000, 0.0000],\n",
       "         [0.2148, 0.0908, 0.0791],\n",
       "         [0.0983, 0.0416, 0.0362],\n",
       "         [0.4157, 0.1758, 0.1531],\n",
       "         [0.5126, 0.2168, 0.1887],\n",
       "         [0.0000, 0.0000, 0.0000]],\n",
       "\n",
       "        [[0.0000, 0.0000, 0.0000],\n",
       "         [0.4750, 0.2009, 0.1749],\n",
       "         [0.2436, 0.1030, 0.0897],\n",
       "         [0.2058, 0.0870, 0.0758],\n",
       "         [0.3300, 0.1396, 0.1215],\n",
       "         [0.0000, 0.0000, 0.0000]],\n",
       "\n",
       "        [[0.0000, 0.0000, 0.0000],\n",
       "         [0.3494, 0.1478, 0.1286],\n",
       "         [0.0533, 0.0225, 0.0196],\n",
       "         [0.3874, 0.1639, 0.1426],\n",
       "         [0.5135, 0.2172, 0.1891],\n",
       "         [0.0000, 0.0000, 0.0000]],\n",
       "\n",
       "        [[0.0000, 0.0000, 0.0000],\n",
       "         [0.2530, 0.1070, 0.0931],\n",
       "         [0.3425, 0.1448, 0.1261],\n",
       "         [0.4431, 0.1874, 0.1631],\n",
       "         [0.2745, 0.1161, 0.1011],\n",
       "         [0.0000, 0.0000, 0.0000]],\n",
       "\n",
       "        [[0.0000, 0.0000, 0.0000],\n",
       "         [0.0000, 0.0000, 0.0000],\n",
       "         [0.0000, 0.0000, 0.0000],\n",
       "         [0.0000, 0.0000, 0.0000],\n",
       "         [0.0000, 0.0000, 0.0000],\n",
       "         [0.0000, 0.0000, 0.0000]]], grad_fn=<PermuteBackward0>)"
      ]
     },
     "execution_count": 56,
     "metadata": {},
     "output_type": "execute_result"
    }
   ],
   "source": [
    "out_1_permuted"
   ]
  },
  {
   "cell_type": "code",
   "execution_count": 57,
   "metadata": {},
   "outputs": [],
   "source": [
    "conv = nn.Conv2d(1, 2, kernel_size=1, padding=1, bias=False)\n",
    "conv.weight.data = weight[:, 1, :].permute(1, 0).unsqueeze(-1).unsqueeze(-1)\n",
    "out_2 = conv(input)"
   ]
  },
  {
   "cell_type": "code",
   "execution_count": 58,
   "metadata": {},
   "outputs": [
    {
     "data": {
      "text/plain": [
       "tensor([[[0.0000, 0.0000, 0.0000, 0.0000, 0.0000, 0.0000],\n",
       "         [0.0000, 0.3484, 0.1595, 0.6745, 0.8317, 0.0000],\n",
       "         [0.0000, 0.7706, 0.3951, 0.3339, 0.5354, 0.0000],\n",
       "         [0.0000, 0.5669, 0.0864, 0.6286, 0.8331, 0.0000],\n",
       "         [0.0000, 0.4104, 0.5556, 0.7189, 0.4454, 0.0000],\n",
       "         [0.0000, 0.0000, 0.0000, 0.0000, 0.0000, 0.0000]],\n",
       "\n",
       "        [[0.0000, 0.0000, 0.0000, 0.0000, 0.0000, 0.0000],\n",
       "         [0.0000, 0.1207, 0.0553, 0.2336, 0.2881, 0.0000],\n",
       "         [0.0000, 0.2669, 0.1369, 0.1157, 0.1855, 0.0000],\n",
       "         [0.0000, 0.1964, 0.0299, 0.2177, 0.2886, 0.0000],\n",
       "         [0.0000, 0.1422, 0.1925, 0.2490, 0.1543, 0.0000],\n",
       "         [0.0000, 0.0000, 0.0000, 0.0000, 0.0000, 0.0000]],\n",
       "\n",
       "        [[0.0000, 0.0000, 0.0000, 0.0000, 0.0000, 0.0000],\n",
       "         [0.0000, 0.1402, 0.0642, 0.2714, 0.3346, 0.0000],\n",
       "         [0.0000, 0.3100, 0.1590, 0.1343, 0.2154, 0.0000],\n",
       "         [0.0000, 0.2281, 0.0348, 0.2529, 0.3352, 0.0000],\n",
       "         [0.0000, 0.1651, 0.2235, 0.2892, 0.1792, 0.0000],\n",
       "         [0.0000, 0.0000, 0.0000, 0.0000, 0.0000, 0.0000]]],\n",
       "       grad_fn=<SqueezeBackward1>)"
      ]
     },
     "execution_count": 58,
     "metadata": {},
     "output_type": "execute_result"
    }
   ],
   "source": [
    "out_2"
   ]
  },
  {
   "cell_type": "code",
   "execution_count": 59,
   "metadata": {},
   "outputs": [
    {
     "data": {
      "text/plain": [
       "tensor([[[0.0000, 0.0000, 0.0000],\n",
       "         [0.0000, 0.0000, 0.0000],\n",
       "         [0.0000, 0.0000, 0.0000],\n",
       "         [0.0000, 0.0000, 0.0000],\n",
       "         [0.0000, 0.0000, 0.0000],\n",
       "         [0.0000, 0.0000, 0.0000]],\n",
       "\n",
       "        [[0.0000, 0.0000, 0.0000],\n",
       "         [0.3484, 0.1207, 0.1402],\n",
       "         [0.1595, 0.0553, 0.0642],\n",
       "         [0.6745, 0.2336, 0.2714],\n",
       "         [0.8317, 0.2881, 0.3346],\n",
       "         [0.0000, 0.0000, 0.0000]],\n",
       "\n",
       "        [[0.0000, 0.0000, 0.0000],\n",
       "         [0.7706, 0.2669, 0.3100],\n",
       "         [0.3951, 0.1369, 0.1590],\n",
       "         [0.3339, 0.1157, 0.1343],\n",
       "         [0.5354, 0.1855, 0.2154],\n",
       "         [0.0000, 0.0000, 0.0000]],\n",
       "\n",
       "        [[0.0000, 0.0000, 0.0000],\n",
       "         [0.5669, 0.1964, 0.2281],\n",
       "         [0.0864, 0.0299, 0.0348],\n",
       "         [0.6286, 0.2177, 0.2529],\n",
       "         [0.8331, 0.2886, 0.3352],\n",
       "         [0.0000, 0.0000, 0.0000]],\n",
       "\n",
       "        [[0.0000, 0.0000, 0.0000],\n",
       "         [0.4104, 0.1422, 0.1651],\n",
       "         [0.5556, 0.1925, 0.2235],\n",
       "         [0.7189, 0.2490, 0.2892],\n",
       "         [0.4454, 0.1543, 0.1792],\n",
       "         [0.0000, 0.0000, 0.0000]],\n",
       "\n",
       "        [[0.0000, 0.0000, 0.0000],\n",
       "         [0.0000, 0.0000, 0.0000],\n",
       "         [0.0000, 0.0000, 0.0000],\n",
       "         [0.0000, 0.0000, 0.0000],\n",
       "         [0.0000, 0.0000, 0.0000],\n",
       "         [0.0000, 0.0000, 0.0000]]])"
      ]
     },
     "execution_count": 59,
     "metadata": {},
     "output_type": "execute_result"
    }
   ],
   "source": [
    "output[:, :, 1, :]"
   ]
  },
  {
   "cell_type": "code",
   "execution_count": 60,
   "metadata": {},
   "outputs": [],
   "source": [
    "my_out = torch.zeros_like(output)"
   ]
  },
  {
   "cell_type": "code",
   "execution_count": 61,
   "metadata": {},
   "outputs": [],
   "source": [
    "my_out[:, :, 0, :] = out_1.permute(1, 2, 0)\n",
    "my_out[:, :, 1, :] = out_2.permute(1, 2, 0)"
   ]
  },
  {
   "cell_type": "code",
   "execution_count": 62,
   "metadata": {},
   "outputs": [
    {
     "data": {
      "text/plain": [
       "tensor([[[[True, True, True],\n",
       "          [True, True, True]],\n",
       "\n",
       "         [[True, True, True],\n",
       "          [True, True, True]],\n",
       "\n",
       "         [[True, True, True],\n",
       "          [True, True, True]],\n",
       "\n",
       "         [[True, True, True],\n",
       "          [True, True, True]],\n",
       "\n",
       "         [[True, True, True],\n",
       "          [True, True, True]],\n",
       "\n",
       "         [[True, True, True],\n",
       "          [True, True, True]]],\n",
       "\n",
       "\n",
       "        [[[True, True, True],\n",
       "          [True, True, True]],\n",
       "\n",
       "         [[True, True, True],\n",
       "          [True, True, True]],\n",
       "\n",
       "         [[True, True, True],\n",
       "          [True, True, True]],\n",
       "\n",
       "         [[True, True, True],\n",
       "          [True, True, True]],\n",
       "\n",
       "         [[True, True, True],\n",
       "          [True, True, True]],\n",
       "\n",
       "         [[True, True, True],\n",
       "          [True, True, True]]],\n",
       "\n",
       "\n",
       "        [[[True, True, True],\n",
       "          [True, True, True]],\n",
       "\n",
       "         [[True, True, True],\n",
       "          [True, True, True]],\n",
       "\n",
       "         [[True, True, True],\n",
       "          [True, True, True]],\n",
       "\n",
       "         [[True, True, True],\n",
       "          [True, True, True]],\n",
       "\n",
       "         [[True, True, True],\n",
       "          [True, True, True]],\n",
       "\n",
       "         [[True, True, True],\n",
       "          [True, True, True]]],\n",
       "\n",
       "\n",
       "        [[[True, True, True],\n",
       "          [True, True, True]],\n",
       "\n",
       "         [[True, True, True],\n",
       "          [True, True, True]],\n",
       "\n",
       "         [[True, True, True],\n",
       "          [True, True, True]],\n",
       "\n",
       "         [[True, True, True],\n",
       "          [True, True, True]],\n",
       "\n",
       "         [[True, True, True],\n",
       "          [True, True, True]],\n",
       "\n",
       "         [[True, True, True],\n",
       "          [True, True, True]]],\n",
       "\n",
       "\n",
       "        [[[True, True, True],\n",
       "          [True, True, True]],\n",
       "\n",
       "         [[True, True, True],\n",
       "          [True, True, True]],\n",
       "\n",
       "         [[True, True, True],\n",
       "          [True, True, True]],\n",
       "\n",
       "         [[True, True, True],\n",
       "          [True, True, True]],\n",
       "\n",
       "         [[True, True, True],\n",
       "          [True, True, True]],\n",
       "\n",
       "         [[True, True, True],\n",
       "          [True, True, True]]],\n",
       "\n",
       "\n",
       "        [[[True, True, True],\n",
       "          [True, True, True]],\n",
       "\n",
       "         [[True, True, True],\n",
       "          [True, True, True]],\n",
       "\n",
       "         [[True, True, True],\n",
       "          [True, True, True]],\n",
       "\n",
       "         [[True, True, True],\n",
       "          [True, True, True]],\n",
       "\n",
       "         [[True, True, True],\n",
       "          [True, True, True]],\n",
       "\n",
       "         [[True, True, True],\n",
       "          [True, True, True]]]])"
      ]
     },
     "execution_count": 62,
     "metadata": {},
     "output_type": "execute_result"
    }
   ],
   "source": [
    "my_out == output"
   ]
  }
 ],
 "metadata": {
  "kernelspec": {
   "display_name": "base",
   "language": "python",
   "name": "python3"
  },
  "language_info": {
   "codemirror_mode": {
    "name": "ipython",
    "version": 3
   },
   "file_extension": ".py",
   "mimetype": "text/x-python",
   "name": "python",
   "nbconvert_exporter": "python",
   "pygments_lexer": "ipython3",
   "version": "3.9.13"
  },
  "orig_nbformat": 4
 },
 "nbformat": 4,
 "nbformat_minor": 2
}
