{
 "cells": [
  {
   "cell_type": "code",
   "execution_count": 1,
   "metadata": {},
   "outputs": [],
   "source": [
    "import os\n",
    "import datetime\n",
    "import argparse\n",
    "import copy\n",
    "import wandb\n",
    "import torch\n",
    "import torch.nn as nn\n",
    "import torch.backends.cudnn as cudnn\n",
    "import torch.utils.data.distributed\n",
    "import torch.utils.data\n",
    "\n",
    "import utils.common as utils\n",
    "from data import cifar10\n",
    "from models.cifar10.vgg import vgg_16_bn\n",
    "from models.cifar10.resnet import resnet_56\n",
    "from decomposition.decomposition import decompose, decompose_conv_layer"
   ]
  },
  {
   "cell_type": "code",
   "execution_count": 2,
   "metadata": {},
   "outputs": [],
   "source": [
    "# train_loader, val_loader = cifar10.load_data('../data', 256)\n",
    "# criterion = nn.CrossEntropyLoss()\n",
    "# criterion = criterion.cuda()\n",
    "# cudnn.benchmark = True\n",
    "# cudnn.enabled = True\n",
    "\n",
    "# # load model\n",
    "# compress_rate = utils.get_cpr('[0.]*100')"
   ]
  },
  {
   "cell_type": "code",
   "execution_count": 3,
   "metadata": {},
   "outputs": [],
   "source": [
    "# model = eval('vgg_16_bn')(compress_rate=compress_rate).cuda()\n",
    "# ckpt = torch.load('checkpoint/cifar10/vgg_16_bn.pt', map_location='cuda:0')\n",
    "# model.load_state_dict(ckpt['state_dict'])"
   ]
  },
  {
   "cell_type": "code",
   "execution_count": 4,
   "metadata": {},
   "outputs": [],
   "source": [
    "# dcp_model = decompose(model, rank=8, n_iter_max=100, n_iter_singular_error=1)"
   ]
  },
  {
   "cell_type": "code",
   "execution_count": 5,
   "metadata": {},
   "outputs": [],
   "source": [
    "# def validate(val_loader, model, criterion):\n",
    "#     losses = utils.AverageMeter('Loss', ':.4e')\n",
    "#     top1 = utils.AverageMeter('Acc@1', ':6.2f')\n",
    "#     top5 = utils.AverageMeter('Acc@5', ':6.2f')\n",
    "\n",
    "#     # switch to evaluation mode\n",
    "#     model.eval()\n",
    "#     with torch.no_grad():\n",
    "#         for i, (images, target) in enumerate(val_loader):\n",
    "#             images = images.cuda()\n",
    "#             target = target.cuda()\n",
    "\n",
    "#             # compute output\n",
    "#             logits = model(images)\n",
    "#             loss = criterion(logits, target)\n",
    "\n",
    "#             # measure accuracy and record loss\n",
    "#             pred1, pred5 = utils.accuracy(logits, target, topk=(1, 5))\n",
    "#             n = images.size(0)\n",
    "#             losses.update(loss.item(), n)\n",
    "#             top1.update(pred1[0], n)\n",
    "#             top5.update(pred5[0], n)\n",
    "\n",
    "#         print(' * Acc@1 {top1.avg:.3f} Acc@5 {top5.avg:.3f}'\n",
    "#                     .format(top1=top1, top5=top5))\n",
    "\n",
    "#     return losses.avg, top1.avg, top5.avg\n"
   ]
  },
  {
   "cell_type": "code",
   "execution_count": 6,
   "metadata": {},
   "outputs": [],
   "source": [
    "# model"
   ]
  },
  {
   "cell_type": "code",
   "execution_count": 7,
   "metadata": {},
   "outputs": [],
   "source": [
    "# validate(val_loader, model, criterion)"
   ]
  },
  {
   "cell_type": "code",
   "execution_count": 8,
   "metadata": {},
   "outputs": [],
   "source": [
    "conv = nn.Conv2d(64, 128, 3, padding=1, bias=False).cuda()"
   ]
  },
  {
   "cell_type": "code",
   "execution_count": 9,
   "metadata": {},
   "outputs": [
    {
     "data": {
      "application/vnd.jupyter.widget-view+json": {
       "model_id": "59e209c3ef4b47f7a843401644088929",
       "version_major": 2,
       "version_minor": 0
      },
      "text/plain": [
       "  0%|          | 0/128 [00:00<?, ?it/s]"
      ]
     },
     "metadata": {},
     "output_type": "display_data"
    }
   ],
   "source": [
    "dcp_layer = decompose_conv_layer(conv, rank=9, n_iter_max=100)"
   ]
  },
  {
   "cell_type": "code",
   "execution_count": 10,
   "metadata": {},
   "outputs": [
    {
     "data": {
      "text/plain": [
       "CPDBlock(\n",
       "  (head): ModuleList(\n",
       "    (0-127): 128 x Conv2d(64, 8, kernel_size=(1, 1), stride=(1, 1), bias=False)\n",
       "  )\n",
       "  (body): ModuleList(\n",
       "    (0-127): 128 x Conv2d(8, 1, kernel_size=(3, 1), stride=(1, 1), padding=(1, 0), bias=False)\n",
       "  )\n",
       "  (tail): ModuleList(\n",
       "    (0-127): 128 x Conv2d(1, 8, kernel_size=(1, 3), stride=(1, 1), padding=(0, 1), bias=False)\n",
       "  )\n",
       ")"
      ]
     },
     "execution_count": 10,
     "metadata": {},
     "output_type": "execute_result"
    }
   ],
   "source": [
    "dcp_layer"
   ]
  },
  {
   "cell_type": "code",
   "execution_count": 11,
   "metadata": {},
   "outputs": [],
   "source": [
    "def nmse(conv, dcp):\n",
    "  rand_inp = torch.randn((1, 64, 32, 32), device=0)\n",
    "  ori_output = conv(rand_inp)\n",
    "  my_output = dcp(rand_inp)\n",
    "  error = (torch.norm(ori_output-my_output, p=2).item()/torch.norm(ori_output, p=2).item())**2\n",
    "  \n",
    "  return error"
   ]
  },
  {
   "cell_type": "code",
   "execution_count": 12,
   "metadata": {},
   "outputs": [
    {
     "name": "stdout",
     "output_type": "stream",
     "text": [
      "self.head[0].weight.shape  torch.Size([8, 64, 1, 1])\n",
      "self.body[0].weight.shape  torch.Size([1, 8, 3, 1])\n",
      "self.tail[0].weight.shape  torch.Size([8, 1, 1, 3])\n",
      "4768.592741641466\n"
     ]
    }
   ],
   "source": [
    "print(nmse(conv, dcp_layer))"
   ]
  }
 ],
 "metadata": {
  "kernelspec": {
   "display_name": "base",
   "language": "python",
   "name": "python3"
  },
  "language_info": {
   "codemirror_mode": {
    "name": "ipython",
    "version": 3
   },
   "file_extension": ".py",
   "mimetype": "text/x-python",
   "name": "python",
   "nbconvert_exporter": "python",
   "pygments_lexer": "ipython3",
   "version": "3.9.13"
  },
  "orig_nbformat": 4
 },
 "nbformat": 4,
 "nbformat_minor": 2
}
